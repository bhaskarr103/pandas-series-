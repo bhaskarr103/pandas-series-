{
 "cells": [
  {
   "cell_type": "markdown",
   "metadata": {},
   "source": [
    "# SERIES\n",
    "Series is a one-dimensional array like structure with homogeneous data, which can be used to handle and manipulate data. What makes it special is its index attribute, which has incredible\n",
    "functionality and is heavily mutable.\n",
    "\n",
    "It has two parts \n",
    "1. Data part (An array of actual data)\n",
    "2. Associated index with data (associated array of indexes or data labels).\n",
    "\n",
    "✓ Data of Series is always mutable, means it can be changed.\n",
    "✓ But the size of Data of Series is always immutable, means it cannot be changed."
   ]
  },
  {
   "cell_type": "code",
   "execution_count": 9,
   "metadata": {},
   "outputs": [
    {
     "name": "stdout",
     "output_type": "stream",
     "text": [
      "0    10\n",
      "1    20\n",
      "2    30\n",
      "3    40\n",
      "4    50\n",
      "dtype: int32\n",
      "a    10\n",
      "b    20\n",
      "c    30\n",
      "d    40\n",
      "e    50\n",
      "dtype: int32\n",
      "a    50\n",
      "b    50\n",
      "c    50\n",
      "d    50\n",
      "e    50\n",
      "dtype: int64\n",
      "Name      Bhaskar\n",
      "Branch      C.S.E\n",
      "Age            20\n",
      "dtype: object\n"
     ]
    }
   ],
   "source": [
    "# Syntax : pd.Series(data, index=(optional))\n",
    "# data --> ndarray(or numpy array), scalar quan., python sequence( lists), dictionary.\n",
    "\n",
    "# Series with ndarray\n",
    "\n",
    "import pandas as pd\n",
    "import numpy as np\n",
    "\n",
    "arr1 = np.array([10,20,30,40,50])\n",
    "df = pd.Series(arr1)\n",
    "print(df)\n",
    "\n",
    "# Series with Mutable index.\n",
    "arr2 = np.array([10,20,30,40,50])\n",
    "df1 = pd.Series(arr2, index=['a','b','c','d','e'])\n",
    "print(df1)\n",
    "\n",
    "# Creating from scalar values.\n",
    "\n",
    "#  --> To create a series from scalar value, an index must be provided. The\n",
    "#  --> scalar value will be repeated as per the length of index.\n",
    "\n",
    "df3 = pd.Series(50, index=['a','b','c','d','e'])\n",
    "print(df3)\n",
    "\n",
    "# Creating Series from Dictionary.\n",
    "\n",
    "dic = {'Name':'Bhaskar','Branch':'C.S.E','Age':20}\n",
    "df4 = pd.Series(dic)\n",
    "print(df4)\n",
    "\n"
   ]
  },
  {
   "cell_type": "code",
   "execution_count": 8,
   "metadata": {},
   "outputs": [
    {
     "name": "stdout",
     "output_type": "stream",
     "text": [
      "0     2\n",
      "1     4\n",
      "2     6\n",
      "3     8\n",
      "4    10\n",
      "dtype: int64\n",
      "0     1\n",
      "1     4\n",
      "2     9\n",
      "3    16\n",
      "4    25\n",
      "dtype: int64\n",
      "2    3\n",
      "3    4\n",
      "4    5\n",
      "dtype: int64\n"
     ]
    }
   ],
   "source": [
    "# Mathematical operations in Series.\n",
    "\n",
    "s = pd.Series([1,2,3,4,5])\n",
    "\n",
    "# Print all the values of the Series by multiplying them by 2.\n",
    "\n",
    "print(s*2)\n",
    "\n",
    "# Print Square of all the values of the series.\n",
    "\n",
    "print(s**2)\n",
    "\n",
    "# Print all the values of the Series that are greater than 2\n",
    "\n",
    "print(s[s>2])"
   ]
  },
  {
   "cell_type": "code",
   "execution_count": 16,
   "metadata": {},
   "outputs": [
    {
     "name": "stdout",
     "output_type": "stream",
     "text": [
      "a     2\n",
      "b     4\n",
      "c     6\n",
      "d     8\n",
      "e    10\n",
      "dtype: int64\n",
      "a    2.0\n",
      "b    4.0\n",
      "c    6.0\n",
      "d    8.0\n",
      "e    NaN\n",
      "dtype: float64\n",
      "a    2.0\n",
      "b    4.0\n",
      "c    6.0\n",
      "d    8.0\n",
      "e    5.0\n",
      "dtype: float64\n"
     ]
    }
   ],
   "source": [
    "import pandas as pd\n",
    "\n",
    "s1 = pd.Series([1,2,3,4,5], index=['a','b','c','d','e'])\n",
    "s2 = pd.Series([1,2,3,4,5], index=['a','b','c','d','e'])\n",
    "s3 = pd.Series([1,2,3,4], index=['a','b','c','d'])\n",
    "\n",
    "# Adding two Series\n",
    "\n",
    "print(s1+s2)\n",
    "\n",
    "# While adding two series, if Non-Matching Index is found in either of the\n",
    "# Series, Then NaN will be printed corresponds to Non-Matching Index.\n",
    "\n",
    "print(s2+s3)\n",
    "\n",
    "#If Non-Matching Index is found in either of the series,\n",
    "#then this NonMatching Index corresponding value of that series will be filled as 0.\n",
    "\n",
    "print(s2.add(s3,fill_value=0))"
   ]
  },
  {
   "cell_type": "code",
   "execution_count": 26,
   "metadata": {},
   "outputs": [
    {
     "name": "stdout",
     "output_type": "stream",
     "text": [
      "    0\n",
      "0  10\n",
      "1  20\n",
      "2  30\n",
      "\n",
      "\n",
      "     0\n",
      "0  10\n",
      "1  20\n",
      "2  30\n",
      "3  40\n",
      "4  50\n",
      "\n",
      " 3    40\n",
      "4    50\n",
      "dtype: int32\n"
     ]
    }
   ],
   "source": [
    "# Creating a sample DataFrame\n",
    "\n",
    "data = np.array([10,20,30,40,50,60,70])\n",
    "\n",
    "df5 = pd.DataFrame(data)\n",
    "\n",
    "# Printing the first 3 rows using head() in Python\n",
    "\n",
    "print(df5.head(3))\n",
    "\n",
    "# Printing the first 5 rows using head() in Python\n",
    "\n",
    "print(\"\\n\\n\",df5.head())\n",
    "\n",
    "# Printing the last 2 rows using tail() in Python\n",
    "\n",
    "print(\"\\n\",df.tail(2))"
   ]
  },
  {
   "cell_type": "code",
   "execution_count": 23,
   "metadata": {},
   "outputs": [
    {
     "name": "stdout",
     "output_type": "stream",
     "text": [
      "0    1\n",
      "1    2\n",
      "2    3\n",
      "dtype: int64\n",
      "0    1\n",
      "1    2\n",
      "2    3\n",
      "dtype: int64\n",
      "3    4\n",
      "4    5\n",
      "dtype: int64\n",
      "3    4\n",
      "4    5\n",
      "dtype: int64\n"
     ]
    }
   ],
   "source": [
    "# Selection in Series.\n",
    "\n",
    "# 1. loc index label :-\n",
    "# Syntax:-series_name.loc[StartRange: StopRange]\n",
    "\n",
    "s = pd.Series([1,2,3,4,5])\n",
    "\n",
    "# To Print Values from Index 0 to 2.\n",
    "print(s.loc[:2])\n",
    "print(s[0:3])\n",
    "\n",
    "# To Print Values from Index 3 to 4.\n",
    "print(s.loc[3:4])\n",
    "print(s[3:])\n"
   ]
  },
  {
   "cell_type": "code",
   "execution_count": 28,
   "metadata": {},
   "outputs": [
    {
     "name": "stdout",
     "output_type": "stream",
     "text": [
      "Index(['a', 'b', 'c', 'd', 'e'], dtype='object')\n",
      "[1 2 3 4 5]\n"
     ]
    }
   ],
   "source": [
    "# Indexing in Series.\n",
    "# Pandas provide index attribute to get or set the index of entries or values in series.\n",
    "\n",
    "s4 = pd.Series([1,2,3,4,5], index=['a','b','c','d','e'])\n",
    "\n",
    "print(s4.index)\n",
    "print(s4.values)"
   ]
  },
  {
   "cell_type": "code",
   "execution_count": 34,
   "metadata": {},
   "outputs": [
    {
     "name": "stdout",
     "output_type": "stream",
     "text": [
      "\n",
      " b    2\n",
      "d    4\n",
      "dtype: int64\n",
      "\n",
      " a    1\n",
      "c    3\n",
      "e    5\n",
      "dtype: int64\n",
      "\n",
      " 5\n",
      "\n",
      " b    2\n",
      "c    3\n",
      "d    4\n",
      "dtype: int64\n"
     ]
    }
   ],
   "source": [
    "# Slicing is a way to retrieve subsets of data from a pandas object. A\n",
    "# slice object syntax is –\n",
    "\n",
    "# SERIES_NAME [start:end: step]\n",
    "\n",
    "s4 = pd.Series([1,2,3,4,5], index=['a','b','c','d','e'])\n",
    "\n",
    "print(\"\\n\",s4[1:5:2])\n",
    "print(\"\\n\",s4[0:6:2])\n",
    "\n",
    "print(\"\\n\",s4[-1])\n",
    "print(\"\\n\",s4[-4:-1])\n"
   ]
  },
  {
   "cell_type": "code",
   "execution_count": null,
   "metadata": {},
   "outputs": [],
   "source": []
  }
 ],
 "metadata": {
  "kernelspec": {
   "display_name": "Python 3",
   "language": "python",
   "name": "python3"
  },
  "language_info": {
   "codemirror_mode": {
    "name": "ipython",
    "version": 3
   },
   "file_extension": ".py",
   "mimetype": "text/x-python",
   "name": "python",
   "nbconvert_exporter": "python",
   "pygments_lexer": "ipython3",
   "version": "3.11.0"
  }
 },
 "nbformat": 4,
 "nbformat_minor": 2
}
