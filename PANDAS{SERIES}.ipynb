{
  "nbformat": 4,
  "nbformat_minor": 0,
  "metadata": {
    "colab": {
      "provenance": [],
      "authorship_tag": "ABX9TyPRU2sdAXx+wiBLYe2HeSqU",
      "include_colab_link": true
    },
    "kernelspec": {
      "name": "python3",
      "display_name": "Python 3"
    },
    "language_info": {
      "name": "python"
    }
  },
  "cells": [
    {
      "cell_type": "markdown",
      "metadata": {
        "id": "view-in-github",
        "colab_type": "text"
      },
      "source": [
        "<a href=\"https://colab.research.google.com/github/bhaskarr103/pandas-series-/blob/main/PANDAS%7BSERIES%7D.ipynb\" target=\"_parent\"><img src=\"https://colab.research.google.com/assets/colab-badge.svg\" alt=\"Open In Colab\"/></a>"
      ]
    },
    {
      "cell_type": "markdown",
      "source": [
        "What is a series ?\n",
        "\n",
        "A Pandas Series is like a column in a table.\n",
        "\n",
        "It's a 1-Dimensional Array holding data of any type."
      ],
      "metadata": {
        "id": "_aQ-rfythcmV"
      }
    },
    {
      "cell_type": "code",
      "source": [
        "## Creation of pandas series.\n",
        "\n",
        "# from a list.\n",
        "\n",
        "import pandas as pd\n",
        "\n",
        "a = [1,7,2]\n",
        "myvar = pd.Series(a)\n",
        "print(myvar)"
      ],
      "metadata": {
        "id": "aDaCK70lhdun"
      },
      "execution_count": null,
      "outputs": []
    },
    {
      "cell_type": "code",
      "source": [
        "# Labels -- >> If nothing is specified, the values are labelled with their index number, first value has index 0, second has index 1.\n",
        "#              This label can be used to access a specified value.\n",
        "\n",
        "\n",
        "print(myvar[0] )# return the first value of the series.\n",
        "print(myvar[1] )# return the second value of the series."
      ],
      "metadata": {
        "id": "_ybq_imPhhgX"
      },
      "execution_count": null,
      "outputs": []
    },
    {
      "cell_type": "code",
      "source": [
        "# with the index argument you can name your own label.\n",
        "\n",
        "myvar = pd.Series(a, index=['x','y','z'])\n",
        "print(myvar)\n",
        "print(myvar['x'])  # return the value of x\n"
      ],
      "metadata": {
        "id": "4neC9B12hkY0"
      },
      "execution_count": null,
      "outputs": []
    },
    {
      "cell_type": "code",
      "source": [
        "# custom index\n",
        "\n",
        "arr = [67,57,89,100]\n",
        "subjects = ['hindi', 'english', 'math', 'science']\n",
        "\n",
        "myvar = pd.Series(arr, index=subjects)\n",
        "print(myvar)"
      ],
      "metadata": {
        "id": "lb8l_MUzhoYU"
      },
      "execution_count": null,
      "outputs": []
    },
    {
      "cell_type": "code",
      "source": [
        "# setting a name :\n",
        "\n",
        "marks_series = pd.Series(arr, index=subjects, name='Students marks')\n",
        "print(marks_series)"
      ],
      "metadata": {
        "id": "z72bv-GMhppX"
      },
      "execution_count": null,
      "outputs": []
    },
    {
      "cell_type": "code",
      "source": [
        "# series from dictionary.\n",
        "\n",
        "marks = {\n",
        "    'hindi':67,\n",
        "    'english':57,\n",
        "    'math':89,\n",
        "    'science':100\n",
        "}\n",
        "\n",
        "myvar = pd.Series(marks, name='students marks')\n",
        "print(myvar)"
      ],
      "metadata": {
        "id": "kXvdKS1GhsIp"
      },
      "execution_count": null,
      "outputs": []
    },
    {
      "cell_type": "markdown",
      "source": [
        "The pandas series objects, can be thought of as an enhanced version of NumPy structured arrays in which the rows and columns are identified with labels rather than simple integer indices."
      ],
      "metadata": {
        "id": "O4j90WX6hu0o"
      }
    },
    {
      "cell_type": "code",
      "source": [
        "# Series attributes :\n",
        "#---------------------\n",
        "\n",
        "#size\n",
        "marks_series.size\n",
        "\n",
        "\n",
        "#dtype\n",
        "type(marks_series)\n",
        "\n",
        "\n",
        "#name\n",
        "marks_series.name\n",
        "\n",
        "#is_unique\n",
        "marks_series.is_unique\n",
        "#------>>> check the series and return TRUE if there is no repetition present.\n",
        "\n",
        "\n",
        "#index\n",
        "marks_series.index\n",
        "# ----->>> returns a NumPy Array !\n",
        "\n",
        "\n",
        "data = pd.Series([0.25, 0.5, 0.75, 1.00])\n",
        "data.index\n",
        "# ---->>> gives a RangeIndex\n",
        "\n",
        "\n",
        "# values\n",
        "marks_series.values"
      ],
      "metadata": {
        "id": "XaGqkWlDhyc6"
      },
      "execution_count": null,
      "outputs": []
    },
    {
      "cell_type": "code",
      "source": [
        "# read_csv\n",
        "\n",
        "print(pd.read_csv('/subs.csv'))\n",
        "\n",
        "#dtype\n",
        "\n",
        "type(pd.read_csv('/subs.csv'))  # -------> returns a DataFrame"
      ],
      "metadata": {
        "id": "525InUwnh1Qt"
      },
      "execution_count": null,
      "outputs": []
    },
    {
      "cell_type": "code",
      "source": [
        "# solution to above problem.\n",
        "\n",
        "pd.read_csv('/subs.csv', squeeze=True)"
      ],
      "metadata": {
        "id": "qaItW2MSh38h"
      },
      "execution_count": null,
      "outputs": []
    },
    {
      "cell_type": "code",
      "source": [
        "vk = pd.read_csv('/content/kohli_ipl.csv', index_col='match_no', squeeze=True)\n",
        "print(vk)"
      ],
      "metadata": {
        "id": "OWese_6Ih65i"
      },
      "execution_count": null,
      "outputs": []
    },
    {
      "cell_type": "code",
      "source": [
        "movies = pd.read_csv('/content/bollywood.csv', index_col='movie', squeeze=True)\n",
        "print(movies)"
      ],
      "metadata": {
        "id": "Ix0U-sMijM8K"
      },
      "execution_count": null,
      "outputs": []
    },
    {
      "cell_type": "markdown",
      "source": [
        "                            *SERIES METHODS !*"
      ],
      "metadata": {
        "id": "hs6cgDjvjwOQ"
      }
    },
    {
      "cell_type": "code",
      "source": [
        "# HEAD\n",
        "#------- > gives topmost 5 entries.\n",
        "vk.head()"
      ],
      "metadata": {
        "id": "sGGiao2kj4WG"
      },
      "execution_count": null,
      "outputs": []
    },
    {
      "cell_type": "code",
      "source": [
        "movies.head(10) # -------> gives topmost 10 entries."
      ],
      "metadata": {
        "id": "VFXdLybYkeHN"
      },
      "execution_count": null,
      "outputs": []
    },
    {
      "cell_type": "code",
      "source": [
        "# TAIL\n",
        "# -----> returns lower 5 entries.\n",
        "vk.tail()"
      ],
      "metadata": {
        "id": "5Ia7oTDsko2f"
      },
      "execution_count": null,
      "outputs": []
    },
    {
      "cell_type": "code",
      "source": [
        "# ------> gives lower 10 entries.\n",
        "movies.tail(10)"
      ],
      "metadata": {
        "id": "1LG01iwMk3LB"
      },
      "execution_count": null,
      "outputs": []
    },
    {
      "cell_type": "code",
      "source": [
        "# Sample -------> provides you random series.\n",
        "\n",
        "vk.sample()"
      ],
      "metadata": {
        "id": "XJhEUOUblAZX"
      },
      "execution_count": null,
      "outputs": []
    },
    {
      "cell_type": "code",
      "source": [
        "movies.sample(12)"
      ],
      "metadata": {
        "id": "nuAxl_ODlReh"
      },
      "execution_count": null,
      "outputs": []
    },
    {
      "cell_type": "markdown",
      "source": [
        "VALUE_COUNTS :: counts the occurences of a particular value.\n",
        "suppose, if we have to find how much movies a particular actor(or value)\n",
        "have done."
      ],
      "metadata": {
        "id": "fy6rZbtqlovo"
      }
    },
    {
      "cell_type": "code",
      "source": [
        "movies.value_counts()\n",
        "vk.value_counts()\n",
        "# frequency count of every value."
      ],
      "metadata": {
        "id": "VnceNt-Gl_DX"
      },
      "execution_count": null,
      "outputs": []
    },
    {
      "cell_type": "markdown",
      "source": [
        "SORT VALUES !!"
      ],
      "metadata": {
        "id": "Mxxc5C-SmmcP"
      }
    },
    {
      "cell_type": "code",
      "source": [
        "vk.sort_values()\n",
        "# ascending --> runs scored by virath kohli in asc- order"
      ],
      "metadata": {
        "id": "cKUz7rH8mpp1"
      },
      "execution_count": null,
      "outputs": []
    },
    {
      "cell_type": "code",
      "source": [
        "vk.sort_values(ascending=False)"
      ],
      "metadata": {
        "id": "5_vtTRRnmwXv"
      },
      "execution_count": null,
      "outputs": []
    },
    {
      "cell_type": "code",
      "source": [
        "# sort_index\n",
        "\n",
        "movies.sort_index"
      ],
      "metadata": {
        "id": "oGFMwHgmnKS_"
      },
      "execution_count": null,
      "outputs": []
    },
    {
      "cell_type": "code",
      "source": [
        "# inplace ---->  These methods creates a copy while used but if inplace is introduced, It will change the original data set(or csv file).\n",
        "\n",
        "movies.sort_index(inplace=True)"
      ],
      "metadata": {
        "id": "tcxb2s-enSwy"
      },
      "execution_count": null,
      "outputs": []
    },
    {
      "cell_type": "code",
      "source": [
        "# method cahining :\n",
        "\n",
        "vk.sort_values(ascending = False).head(1).values[0]"
      ],
      "metadata": {
        "id": "96VpU8hsnxMW"
      },
      "execution_count": null,
      "outputs": []
    },
    {
      "cell_type": "code",
      "source": [],
      "metadata": {
        "id": "3_I7uKZKoYhd"
      },
      "execution_count": null,
      "outputs": []
    },
    {
      "cell_type": "markdown",
      "source": [
        "***SERIES MATH METHODS !!***"
      ],
      "metadata": {
        "id": "Z4BLQjAwpa1E"
      }
    },
    {
      "cell_type": "code",
      "source": [
        "# count()  ---> doesn't count missing values, but size does.\n",
        "\n",
        "vk.count"
      ],
      "metadata": {
        "id": "mx7KZUFFpftd"
      },
      "execution_count": null,
      "outputs": []
    },
    {
      "cell_type": "code",
      "source": [
        "print(vk.sum())\n",
        "print(movies.sum())"
      ],
      "metadata": {
        "id": "tJ4APN8Rps_8"
      },
      "execution_count": null,
      "outputs": []
    },
    {
      "cell_type": "code",
      "source": [
        "vk.mean()\n",
        "vk.median()\n",
        "vk.mode()\n",
        "vk.product()\n",
        "vk.std()\n",
        "vk.var()\n",
        "vk.min()\n",
        "vk.max"
      ],
      "metadata": {
        "id": "qT-sW84uqH_X"
      },
      "execution_count": null,
      "outputs": []
    },
    {
      "cell_type": "code",
      "source": [
        "vk.describe()   # ---> gives the whole statistical information.\n",
        "# in output 25% refers that virat kohli is making average 9 runs in starting 25% matches."
      ],
      "metadata": {
        "colab": {
          "base_uri": "https://localhost:8080/"
        },
        "id": "PKSQ11bJqvLV",
        "outputId": "e5dc0879-1704-40fb-e87f-ebe40c811be7"
      },
      "execution_count": null,
      "outputs": [
        {
          "output_type": "execute_result",
          "data": {
            "text/plain": [
              "count    215.000000\n",
              "mean      30.855814\n",
              "std       26.229801\n",
              "min        0.000000\n",
              "25%        9.000000\n",
              "50%       24.000000\n",
              "75%       48.000000\n",
              "max      113.000000\n",
              "Name: runs, dtype: float64"
            ]
          },
          "metadata": {},
          "execution_count": 29
        }
      ]
    },
    {
      "cell_type": "markdown",
      "source": [
        "***SERIES INDEXING !***"
      ],
      "metadata": {
        "id": "XCW8wvTpdfFf"
      }
    },
    {
      "cell_type": "code",
      "source": [
        "import pandas as pd\n",
        "x = pd.Series([12,13,14,35,46,57,58,79,9])\n",
        "\n",
        "print(x[0])\n",
        "print(x[2])\n",
        "print(x[-1])    # value error, key error"
      ],
      "metadata": {
        "id": "5qyk0N7edj2m"
      },
      "execution_count": null,
      "outputs": []
    },
    {
      "cell_type": "code",
      "source": [
        "movies = pd.read_csv('/content/bollywood.csv', index_col='movie', squeeze=True)\n",
        "\n",
        "print(movies['Battalion 609'])\n",
        "\n",
        "print(movies[1])"
      ],
      "metadata": {
        "id": "G1B-zIVbegQi"
      },
      "execution_count": null,
      "outputs": []
    },
    {
      "cell_type": "code",
      "source": [
        "vk = pd.read_csv('/content/kohli_ipl.csv', index_col='match_no', squeeze=True)\n",
        "\n",
        "\n",
        "print(vk[5:16])\n",
        "print(vk[-5:])\n",
        "\n",
        "\n",
        "# FANCY INDEXING\n",
        "\n",
        "print(vk[1,3,4,5])\n",
        "\n",
        "# EDITING SERIES\n",
        "\n",
        "# ----> Using indexing\n",
        "\n",
        "marks_series[1]=100\n",
        "\n",
        "# What if index doesn't exist.\n",
        "\n",
        "marks_series['evs'] = 100\n",
        "\n",
        "movies['2 states (2014 film)'] = 'Alia Bhatt'\n",
        "\n",
        "vk[[0,3,4]] = [0,0,0]"
      ],
      "metadata": {
        "id": "edStE135fpkg"
      },
      "execution_count": null,
      "outputs": []
    },
    {
      "cell_type": "markdown",
      "source": [
        "SERIES WITH PYTHON FUNCTIONALITIES"
      ],
      "metadata": {
        "id": "cqmHzfpfhQAo"
      }
    },
    {
      "cell_type": "code",
      "source": [
        "arr = [67,57,89,100]\n",
        "subjects = ['hindi', 'english', 'math', 'science']\n",
        "\n",
        "myvar = pd.Series(arr, index=subjects)\n",
        "print(myvar)\n",
        "\n",
        "\n",
        "print(list(myvar))\n",
        "\n",
        "print(dict(myvar))\n",
        "\n",
        "\n",
        "print(dir(myvar))\n",
        "\n",
        "\n",
        "print(sorted(myvar))\n",
        "\n",
        "# Membership Operator\n",
        "\n",
        "'2 states (2014 film)' in movies\n",
        "## returns :: TRUE\n",
        "\n",
        "'Alia Bhatt' in movies.values\n",
        "## returns :: TRUE\n",
        "\n",
        "for i in movies\n",
        "## -------> searching for values\n",
        "\n",
        "for i in movies.index"
      ],
      "metadata": {
        "id": "ybhGDyM5hUFB"
      },
      "execution_count": null,
      "outputs": []
    },
    {
      "cell_type": "code",
      "source": [
        "vk = pd.read_csv('/content/kohli_ipl.csv', index_col='match_no', squeeze=True)\n",
        "\n",
        "vk>=50\n",
        "# return true for values which is greater than 50"
      ],
      "metadata": {
        "id": "RHTB0YFiivvi"
      },
      "execution_count": null,
      "outputs": []
    }
  ]
}